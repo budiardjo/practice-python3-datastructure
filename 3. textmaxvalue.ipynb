{
 "cells": [
  {
   "cell_type": "code",
   "execution_count": 3,
   "id": "e176654c",
   "metadata": {},
   "outputs": [
    {
     "name": "stdout",
     "output_type": "stream",
     "text": [
      "Max Value = 104\n"
     ]
    }
   ],
   "source": [
    "import sys\n",
    "\n",
    "def max (arrays):\n",
    "    length = len(arrays)\n",
    "    for i in range (0, length - 1):\n",
    "        if( arrays[i]>arrays[i+1]):\n",
    "            temp = arrays[i]\n",
    "            arrays[i] = arrays[i+1]\n",
    "            arrays[i+1] = temp\n",
    "            maxValue = arrays[length-1]\n",
    "    return maxValue\n",
    " \n",
    "def main ():\n",
    "    scores = [60,50,95,80,70,100,104,33,24]\n",
    "    maxValue = max(scores)\n",
    "    print(\"Max Value =\", maxValue)\n",
    "    \n",
    "if __name__ == \"__main__\":\n",
    "    main()"
   ]
  },
  {
   "cell_type": "code",
   "execution_count": null,
   "id": "eb3fad5e",
   "metadata": {},
   "outputs": [],
   "source": []
  }
 ],
 "metadata": {
  "kernelspec": {
   "display_name": "Python 3",
   "language": "python",
   "name": "python3"
  },
  "language_info": {
   "codemirror_mode": {
    "name": "ipython",
    "version": 3
   },
   "file_extension": ".py",
   "mimetype": "text/x-python",
   "name": "python",
   "nbconvert_exporter": "python",
   "pygments_lexer": "ipython3",
   "version": "3.8.8"
  }
 },
 "nbformat": 4,
 "nbformat_minor": 5
}
