{
 "cells": [
  {
   "cell_type": "code",
   "execution_count": 1,
   "id": "c99ea872",
   "metadata": {},
   "outputs": [
    {
     "name": "stdout",
     "output_type": "stream",
     "text": [
      "Enter your age: dua empat\n",
      "Error in number format: dua empat\n",
      "Enter your age: 24\n",
      "Your age is 24\n"
     ]
    }
   ],
   "source": [
    "def safeIntegerInput(prompt):\n",
    "    # demonstrates a function that traps number format errors during input\n",
    "    #prompts the user for an integer and returns the integer if it well-formed\n",
    "    #otherwise, prints an error message and repeats this process\n",
    "    \n",
    "    inputString = input(prompt)\n",
    "    try:\n",
    "        number = int(inputString)\n",
    "        return number\n",
    "    except ValueError:\n",
    "        print(\"Error in number format:\", inputString)\n",
    "    return safeIntegerInput(prompt)\n",
    "    \n",
    "if __name__ == \"__main__\":\n",
    "    age = safeIntegerInput(\"Enter your age: \")\n",
    "    print(\"Your age is\", age)"
   ]
  }
 ],
 "metadata": {
  "kernelspec": {
   "display_name": "Python 3",
   "language": "python",
   "name": "python3"
  },
  "language_info": {
   "codemirror_mode": {
    "name": "ipython",
    "version": 3
   },
   "file_extension": ".py",
   "mimetype": "text/x-python",
   "name": "python",
   "nbconvert_exporter": "python",
   "pygments_lexer": "ipython3",
   "version": "3.8.8"
  }
 },
 "nbformat": 4,
 "nbformat_minor": 5
}
