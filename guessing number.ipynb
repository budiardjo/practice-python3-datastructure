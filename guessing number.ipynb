{
 "cells": [
  {
   "cell_type": "code",
   "execution_count": 1,
   "id": "571176d5",
   "metadata": {
    "scrolled": true
   },
   "outputs": [
    {
     "ename": "IndentationError",
     "evalue": "expected an indented block (<ipython-input-1-906283a99534>, line 18)",
     "output_type": "error",
     "traceback": [
      "\u001b[1;36m  File \u001b[1;32m\"<ipython-input-1-906283a99534>\"\u001b[1;36m, line \u001b[1;32m18\u001b[0m\n\u001b[1;33m    print(f'Your guess of {user_guess} is too high!')\u001b[0m\n\u001b[1;37m    ^\u001b[0m\n\u001b[1;31mIndentationError\u001b[0m\u001b[1;31m:\u001b[0m expected an indented block\n"
     ]
    }
   ],
   "source": [
    "import random\n",
    "\n",
    "\n",
    "def guessing_game():\n",
    "    answer = random.randint(0, 100)\n",
    "    \n",
    "    while True:\n",
    "        user_guess = int(input('What is your guess? '))\n",
    "        \n",
    "        if user_guess == answer:\n",
    "            print(f'Right! The answer is {user_guess}')\n",
    "            break\n",
    "            \n",
    "        if user_guess < answer:\n",
    "            print(f'Your guess of {user_guess} is too low!')\n",
    "            \n",
    "        else:\n",
    "        print(f'Your guess of {user_guess} is too high!')\n"
   ]
  },
  {
   "cell_type": "code",
   "execution_count": null,
   "id": "76972f53",
   "metadata": {},
   "outputs": [],
   "source": []
  }
 ],
 "metadata": {
  "kernelspec": {
   "display_name": "Python 3",
   "language": "python",
   "name": "python3"
  },
  "language_info": {
   "codemirror_mode": {
    "name": "ipython",
    "version": 3
   },
   "file_extension": ".py",
   "mimetype": "text/x-python",
   "name": "python",
   "nbconvert_exporter": "python",
   "pygments_lexer": "ipython3",
   "version": "3.8.8"
  }
 },
 "nbformat": 4,
 "nbformat_minor": 5
}
