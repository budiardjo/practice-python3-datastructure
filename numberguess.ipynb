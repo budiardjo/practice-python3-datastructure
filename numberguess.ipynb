{
 "cells": [
  {
   "cell_type": "code",
   "execution_count": 16,
   "id": "f43dbef3",
   "metadata": {},
   "outputs": [
    {
     "name": "stdout",
     "output_type": "stream",
     "text": [
      "Enter the smaller number: 1\n",
      "Enter the larger number: 100\n",
      "Enter your guess: 2\n",
      "too small\n",
      "Enter your guess: 50\n",
      "too small\n",
      "Enter your guess: 70\n",
      "too small\n",
      "Enter your guess: 80\n",
      "too small\n",
      "Enter your guess: 90\n",
      "too small\n",
      "Enter your guess: 99\n",
      "too large\n",
      "Enter your guess: 98\n",
      "too large\n",
      "Enter your guess: 97\n",
      "too large\n",
      "Enter your guess: 96\n",
      "too large\n",
      "Enter your guess: 95\n",
      "too large\n",
      "Enter your guess: 94\n",
      "too large\n",
      "Enter your guess: 93\n",
      "too large\n",
      "Enter your guess: 92\n",
      "too large\n",
      "Enter your guess: 91\n",
      "you've got it in 14 tries!\n"
     ]
    }
   ],
   "source": [
    "import random\n",
    "\n",
    "def main ():\n",
    "    # input the bounds of the range of numbers and lets the user guess the \n",
    "    # the computer' number until the guess is correct\n",
    "    \n",
    "    smaller = int(input(\"Enter the smaller number: \"))\n",
    "    larger = int(input(\"Enter the larger number: \"))\n",
    "    myNumber = random.randint(smaller, larger)\n",
    "    count = 0 \n",
    "    while True:\n",
    "        count += 1\n",
    "        userNumber = int(input(\"Enter your guess: \"))\n",
    "        if userNumber < myNumber:\n",
    "            print(\"too small\")\n",
    "        elif userNumber > myNumber:\n",
    "            print(\"too large\")\n",
    "        else:\n",
    "            print(\"you've got it in\", count, \"tries!\")\n",
    "            break\n",
    "if __name__ == \"__main__\":\n",
    "    main()"
   ]
  },
  {
   "cell_type": "code",
   "execution_count": null,
   "id": "afca6abc",
   "metadata": {},
   "outputs": [],
   "source": []
  }
 ],
 "metadata": {
  "kernelspec": {
   "display_name": "Python 3",
   "language": "python",
   "name": "python3"
  },
  "language_info": {
   "codemirror_mode": {
    "name": "ipython",
    "version": 3
   },
   "file_extension": ".py",
   "mimetype": "text/x-python",
   "name": "python",
   "nbconvert_exporter": "python",
   "pygments_lexer": "ipython3",
   "version": "3.8.8"
  }
 },
 "nbformat": 4,
 "nbformat_minor": 5
}
